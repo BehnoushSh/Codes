{
 "cells": [
  {
   "cell_type": "code",
   "execution_count": null,
   "metadata": {},
   "outputs": [],
   "source": []
  },
  {
   "cell_type": "code",
   "execution_count": null,
   "metadata": {},
   "outputs": [],
   "source": []
  },
  {
   "cell_type": "code",
   "execution_count": 3,
   "metadata": {},
   "outputs": [
    {
     "name": "stdout",
     "output_type": "stream",
     "text": [
      "Number of mislabeled points out of a total 1500 points: 41\n",
      "[[1449    5]\n",
      " [  36   10]]\n"
     ]
    },
    {
     "data": {
      "text/plain": [
       "<Figure size 640x480 with 1 Axes>"
      ]
     },
     "metadata": {},
     "output_type": "display_data"
    }
   ],
   "source": [
    "from pandas import read_csv \n",
    "\n",
    "data=read_csv('/Users/Behnoush/Desktop/Python Projects/Cognitir course/Default.csv',index_col=0)\n",
    "\n",
    "# The directory does not work \"\\\" !!!\n",
    "data[:10]\n",
    "\n",
    "data=data.replace(\"Yes\",1)\n",
    "data=data.replace(\"No\",0)\n",
    "data[:10]\n",
    "\n",
    "\n",
    "from sklearn.model_selection import train_test_split\n",
    "\n",
    "# randomly divide the sample to a test and train sets\n",
    "data_train, data_test = train_test_split(data, test_size=0.15)\n",
    "\n",
    "from sklearn.naive_bayes import GaussianNB\n",
    "import numpy as np\n",
    "\n",
    "feature_cols = [\"student\",\"balance\",\"income\"]\n",
    "\n",
    "X_train = data_train[feature_cols]\n",
    "Y_train = data_train ['default'] \n",
    "\n",
    "#Y_train = data_train.default\n",
    "\n",
    "# Train classifier\n",
    "gnb=GaussianNB()\n",
    "clf=gnb.fit(X_train,Y_train)\n",
    "\n",
    "\n",
    "X_test = data_test[feature_cols]\n",
    "Y_test = data_test.default\n",
    "\n",
    "# Predict value\n",
    "Y_pred = clf.predict(X_test)\n",
    "\n",
    "Y_pred\n",
    "\n",
    "\n",
    "print('Number of mislabeled points out of a total %d points: %d' %(X_test.shape[0], (Y_test != Y_pred).sum()))\n",
    "\n",
    "X_test.shape\n",
    "X_test.shape[0]\n",
    "X_test.shape[1]\n",
    "\n",
    "#import confusion matrix\n",
    "\n",
    "from sklearn.metrics import confusion_matrix\n",
    "print(confusion_matrix(Y_test,Y_pred))\n",
    "\n",
    "# ROC: Receiver Operating Characteristic (ROC)\n",
    "\n",
    "from sklearn.metrics import roc_curve\n",
    "import matplotlib.pyplot as plt\n",
    "\n",
    "Y_score = clf.predict_proba(X_test)\n",
    "Y_score\n",
    "\n",
    "from sklearn.metrics import roc_curve, auc\n",
    "    \n",
    "# Compute ROC metrics\n",
    "false_positive_rate, true_positive_rate, thresholds = roc_curve(Y_test, Y_score[:, 1], pos_label=1)\n",
    "roc_auc = auc(false_positive_rate, true_positive_rate)\n",
    "    \n",
    "    \n",
    "import matplotlib.pyplot as plt\n",
    "# Plot ROC curve\n",
    "plt.plot(false_positive_rate, true_positive_rate, label='AUC = %0.2f'% roc_auc)\n",
    "\n",
    "\n",
    "plt.title('Receiver Operating Characteristic')\n",
    "plt.legend(loc='lower right')\n",
    "plt.plot([0,1],[0,1],'r--')\n",
    "plt.xlim([-0.1,1.2])\n",
    "plt.ylim([-0.1,1.2])\n",
    "plt.ylabel('True Positive Rate')\n",
    "plt.xlabel('False Positive Rate')\n",
    "plt.show()"
   ]
  },
  {
   "cell_type": "code",
   "execution_count": 4,
   "metadata": {},
   "outputs": [
    {
     "name": "stderr",
     "output_type": "stream",
     "text": [
      "/Users/Behnoush/anaconda3/lib/python3.7/site-packages/ipykernel_launcher.py:37: FutureWarning: Method .as_matrix will be removed in a future version. Use .values instead.\n",
      "/Users/Behnoush/anaconda3/lib/python3.7/site-packages/ipykernel_launcher.py:38: FutureWarning: Method .as_matrix will be removed in a future version. Use .values instead.\n",
      "/Users/Behnoush/anaconda3/lib/python3.7/site-packages/ipykernel_launcher.py:41: FutureWarning: Method .as_matrix will be removed in a future version. Use .values instead.\n",
      "/Users/Behnoush/anaconda3/lib/python3.7/site-packages/ipykernel_launcher.py:42: FutureWarning: Method .as_matrix will be removed in a future version. Use .values instead.\n"
     ]
    },
    {
     "data": {
      "image/png": "[encoded data removed]",
      "text/plain": [
       "<Figure size 432x288 with 1 Axes>"
      ]
     },
     "metadata": {
      "needs_background": "light"
     },
     "output_type": "display_data"
    }
   ],
   "source": [
    "# Considering Cross Validation\n",
    "from pandas import read_csv \n",
    "df=read_csv('/Users/Behnoush/Desktop/Python Projects/Cognitir course/Default.csv', index_col=0) \n",
    "\n",
    "df=df.replace(\"Yes\",1)\n",
    "df=df.replace(\"No\",0)\n",
    "\n",
    "from sklearn.model_selection import train_test_split\n",
    "\n",
    "# randomly divide the sample to a test and train sets\n",
    "data_train, data_test = train_test_split(df, test_size=0.15)\n",
    "\n",
    "feature_cols = [\"student\",\"balance\",\"income\"]\n",
    "\n",
    "X_train = data_train[feature_cols]\n",
    "Y_train = data_train ['default'] \n",
    "\n",
    "X_test = data_test[feature_cols]\n",
    "Y_test = data_test.default\n",
    "\n",
    "\n",
    "from sklearn.naive_bayes import GaussianNB\n",
    "\n",
    "from sklearn.model_selection import StratifiedKFold\n",
    "# Configure cross validation\n",
    "cv = StratifiedKFold(n_splits=6)\n",
    "\n",
    "import matplotlib.pyplot as plt\n",
    "# Create new plot\n",
    "plt.figure()\n",
    "\n",
    "\n",
    "# Get indices for training and test subsets for each fold\n",
    "for i, (train, test) in enumerate(cv.split(df[feature_cols], df.default)):\n",
    "    \n",
    "    # Get training data\n",
    "    X_train = df[feature_cols].as_matrix()[train, :]\n",
    "    Y_train = df.default.as_matrix()[train,]\n",
    "    \n",
    "    # Get test data\n",
    "    X_test = df[feature_cols].as_matrix()[test, :]\n",
    "    Y_test = df.default.as_matrix()[test,]\n",
    "    \n",
    "    # Configure classifier\n",
    "    clf = GaussianNB()\n",
    "    \n",
    "    # Learn classification model\n",
    "    clf.fit(X_train, Y_train)\n",
    "    \n",
    "    # Get sample scores for ROC curve\n",
    "    Y_score = clf.predict_proba(X_test)\n",
    "    \n",
    "    \n",
    "    from sklearn.metrics import roc_curve, auc\n",
    "    \n",
    "    # Compute ROC metrics\n",
    "    false_positive_rate, true_positive_rate, thresholds = roc_curve(Y_test, Y_score[:, 1], pos_label=1)\n",
    "    roc_auc = auc(false_positive_rate, true_positive_rate)\n",
    "\n",
    "    # Plot ROC curve\n",
    "    plt.plot(false_positive_rate, true_positive_rate, label='AUC = %0.2f'% roc_auc)\n",
    "\n",
    "plt.title('Receiver Operating Characteristic')\n",
    "plt.legend(loc='lower right')\n",
    "plt.plot([0,1],[0,1],'r--')\n",
    "plt.xlim([-0.1,1.2])\n",
    "plt.ylim([-0.1,1.2])\n",
    "plt.ylabel('True Positive Rate')\n",
    "plt.xlabel('False Positive Rate')\n",
    "plt.show()"
   ]
  },
  {
   "cell_type": "code",
   "execution_count": null,
   "metadata": {},
   "outputs": [],
   "source": []
  }
 ],
 "metadata": {
  "kernelspec": {
   "display_name": "Python 3",
   "language": "python",
   "name": "python3"
  },
  "language_info": {
   "codemirror_mode": {
    "name": "ipython",
    "version": 3
   },
   "file_extension": ".py",
   "mimetype": "text/x-python",
   "name": "python",
   "nbconvert_exporter": "python",
   "pygments_lexer": "ipython3",
   "version": "3.7.0"
  }
 },
 "nbformat": 4,
 "nbformat_minor": 2
}
